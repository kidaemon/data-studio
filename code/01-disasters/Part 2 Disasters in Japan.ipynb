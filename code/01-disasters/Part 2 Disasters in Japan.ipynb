{
 "cells": [
  {
   "cell_type": "markdown",
   "metadata": {},
   "source": [
    "## Scraping the data for 2018"
   ]
  },
  {
   "cell_type": "markdown",
   "metadata": {},
   "source": [
    "Japan's Fire and Disaster Management Agency publishes the information of natural disasters in PDFs.\n",
    "\n",
    "http://www.fdma.go.jp/bn/2018/"
   ]
  },
  {
   "cell_type": "code",
   "execution_count": 1,
   "metadata": {},
   "outputs": [],
   "source": [
    "import pandas as pd\n",
    "\n",
    "from selenium import webdriver\n",
    "from selenium.webdriver.common.keys import Keys\n",
    "from selenium.webdriver.support.ui import Select\n",
    "from selenium.webdriver.support.ui import WebDriverWait"
   ]
  },
  {
   "cell_type": "code",
   "execution_count": 2,
   "metadata": {},
   "outputs": [],
   "source": [
    "driver = webdriver.Chrome()"
   ]
  },
  {
   "cell_type": "code",
   "execution_count": 3,
   "metadata": {},
   "outputs": [],
   "source": [
    "driver.get('http://www.fdma.go.jp/bn/2018/')"
   ]
  },
  {
   "cell_type": "code",
   "execution_count": 4,
   "metadata": {},
   "outputs": [],
   "source": [
    "disaster_list = []\n",
    "events = driver.find_element_by_class_name('link_list_cms').find_elements_by_tag_name('li')\n",
    "for event in events:\n",
    "    event_dic = {}\n",
    "    event_dic['Event'] = event.find_element_by_tag_name('a').text\n",
    "    event_dic['URL'] = event.find_element_by_tag_name('a').get_attribute('href')\n",
    "    disaster_list.append(event_dic)"
   ]
  },
  {
   "cell_type": "code",
   "execution_count": 5,
   "metadata": {},
   "outputs": [
    {
     "data": {
      "text/html": [
       "<div>\n",
       "<style scoped>\n",
       "    .dataframe tbody tr th:only-of-type {\n",
       "        vertical-align: middle;\n",
       "    }\n",
       "\n",
       "    .dataframe tbody tr th {\n",
       "        vertical-align: top;\n",
       "    }\n",
       "\n",
       "    .dataframe thead th {\n",
       "        text-align: right;\n",
       "    }\n",
       "</style>\n",
       "<table border=\"1\" class=\"dataframe\">\n",
       "  <thead>\n",
       "    <tr style=\"text-align: right;\">\n",
       "      <th></th>\n",
       "      <th>Event</th>\n",
       "      <th>URL</th>\n",
       "    </tr>\n",
       "  </thead>\n",
       "  <tbody>\n",
       "    <tr>\n",
       "      <th>0</th>\n",
       "      <td>平成30年07月20日　広島県広島市における熱中症事案について（最終報　H30.7.20更新）</td>\n",
       "      <td>http://www.fdma.go.jp/bn/2018/detail/1062.html</td>\n",
       "    </tr>\n",
       "    <tr>\n",
       "      <th>1</th>\n",
       "      <td>平成30年07月18日　宮城県名取市における熱中症事案について（第3報　H30.7.18更新）</td>\n",
       "      <td>http://www.fdma.go.jp/bn/2018/detail/1061.html</td>\n",
       "    </tr>\n",
       "    <tr>\n",
       "      <th>2</th>\n",
       "      <td>平成30年07月13日　平成30年７月豪雨非常災害対策本部会議（消防庁資料 H30.7.19更新）</td>\n",
       "      <td>http://www.fdma.go.jp/bn/2018/detail/1060.html</td>\n",
       "    </tr>\n",
       "    <tr>\n",
       "      <th>3</th>\n",
       "      <td>平成30年07月11日　平成30年７月豪雨による被害に対する消防機関等の活動写真（愛媛県）</td>\n",
       "      <td>http://www.fdma.go.jp/bn/2018/detail/1059.html</td>\n",
       "    </tr>\n",
       "    <tr>\n",
       "      <th>4</th>\n",
       "      <td>平成30年07月11日　平成30年７月豪雨による被害に対する消防機関等の活動写真（岡山県）</td>\n",
       "      <td>http://www.fdma.go.jp/bn/2018/detail/1058.html</td>\n",
       "    </tr>\n",
       "  </tbody>\n",
       "</table>\n",
       "</div>"
      ],
      "text/plain": [
       "                                               Event  \\\n",
       "0    平成30年07月20日　広島県広島市における熱中症事案について（最終報　H30.7.20更新）   \n",
       "1    平成30年07月18日　宮城県名取市における熱中症事案について（第3報　H30.7.18更新）   \n",
       "2  平成30年07月13日　平成30年７月豪雨非常災害対策本部会議（消防庁資料 H30.7.19更新）   \n",
       "3      平成30年07月11日　平成30年７月豪雨による被害に対する消防機関等の活動写真（愛媛県）   \n",
       "4      平成30年07月11日　平成30年７月豪雨による被害に対する消防機関等の活動写真（岡山県）   \n",
       "\n",
       "                                              URL  \n",
       "0  http://www.fdma.go.jp/bn/2018/detail/1062.html  \n",
       "1  http://www.fdma.go.jp/bn/2018/detail/1061.html  \n",
       "2  http://www.fdma.go.jp/bn/2018/detail/1060.html  \n",
       "3  http://www.fdma.go.jp/bn/2018/detail/1059.html  \n",
       "4  http://www.fdma.go.jp/bn/2018/detail/1058.html  "
      ]
     },
     "execution_count": 5,
     "metadata": {},
     "output_type": "execute_result"
    }
   ],
   "source": [
    "df_event = pd.DataFrame(disaster_list)\n",
    "df_event.head()"
   ]
  },
  {
   "cell_type": "code",
   "execution_count": 6,
   "metadata": {},
   "outputs": [
    {
     "data": {
      "text/html": [
       "<div>\n",
       "<style scoped>\n",
       "    .dataframe tbody tr th:only-of-type {\n",
       "        vertical-align: middle;\n",
       "    }\n",
       "\n",
       "    .dataframe tbody tr th {\n",
       "        vertical-align: top;\n",
       "    }\n",
       "\n",
       "    .dataframe thead th {\n",
       "        text-align: right;\n",
       "    }\n",
       "</style>\n",
       "<table border=\"1\" class=\"dataframe\">\n",
       "  <thead>\n",
       "    <tr style=\"text-align: right;\">\n",
       "      <th></th>\n",
       "      <th>Event</th>\n",
       "      <th>URL</th>\n",
       "      <th>Date</th>\n",
       "      <th>ID</th>\n",
       "    </tr>\n",
       "  </thead>\n",
       "  <tbody>\n",
       "    <tr>\n",
       "      <th>0</th>\n",
       "      <td>広島県広島市における熱中症事案について（最終報　H30.7.20更新）</td>\n",
       "      <td>http://www.fdma.go.jp/bn/2018/detail/1062.html</td>\n",
       "      <td>2018-07-20</td>\n",
       "      <td>1062</td>\n",
       "    </tr>\n",
       "    <tr>\n",
       "      <th>1</th>\n",
       "      <td>宮城県名取市における熱中症事案について（第3報　H30.7.18更新）</td>\n",
       "      <td>http://www.fdma.go.jp/bn/2018/detail/1061.html</td>\n",
       "      <td>2018-07-18</td>\n",
       "      <td>1061</td>\n",
       "    </tr>\n",
       "    <tr>\n",
       "      <th>2</th>\n",
       "      <td>平成30年７月豪雨非常災害対策本部会議（消防庁資料 H30.7.19更新）</td>\n",
       "      <td>http://www.fdma.go.jp/bn/2018/detail/1060.html</td>\n",
       "      <td>2018-07-13</td>\n",
       "      <td>1060</td>\n",
       "    </tr>\n",
       "    <tr>\n",
       "      <th>3</th>\n",
       "      <td>平成30年７月豪雨による被害に対する消防機関等の活動写真（愛媛県）</td>\n",
       "      <td>http://www.fdma.go.jp/bn/2018/detail/1059.html</td>\n",
       "      <td>2018-07-11</td>\n",
       "      <td>1059</td>\n",
       "    </tr>\n",
       "    <tr>\n",
       "      <th>4</th>\n",
       "      <td>平成30年７月豪雨による被害に対する消防機関等の活動写真（岡山県）</td>\n",
       "      <td>http://www.fdma.go.jp/bn/2018/detail/1058.html</td>\n",
       "      <td>2018-07-11</td>\n",
       "      <td>1058</td>\n",
       "    </tr>\n",
       "  </tbody>\n",
       "</table>\n",
       "</div>"
      ],
      "text/plain": [
       "                                   Event  \\\n",
       "0    広島県広島市における熱中症事案について（最終報　H30.7.20更新）   \n",
       "1    宮城県名取市における熱中症事案について（第3報　H30.7.18更新）   \n",
       "2  平成30年７月豪雨非常災害対策本部会議（消防庁資料 H30.7.19更新）   \n",
       "3      平成30年７月豪雨による被害に対する消防機関等の活動写真（愛媛県）   \n",
       "4      平成30年７月豪雨による被害に対する消防機関等の活動写真（岡山県）   \n",
       "\n",
       "                                              URL       Date    ID  \n",
       "0  http://www.fdma.go.jp/bn/2018/detail/1062.html 2018-07-20  1062  \n",
       "1  http://www.fdma.go.jp/bn/2018/detail/1061.html 2018-07-18  1061  \n",
       "2  http://www.fdma.go.jp/bn/2018/detail/1060.html 2018-07-13  1060  \n",
       "3  http://www.fdma.go.jp/bn/2018/detail/1059.html 2018-07-11  1059  \n",
       "4  http://www.fdma.go.jp/bn/2018/detail/1058.html 2018-07-11  1058  "
      ]
     },
     "execution_count": 6,
     "metadata": {},
     "output_type": "execute_result"
    }
   ],
   "source": [
    "df_event['Date'] = df_event['Event'].str.extract('年([\\w\\d]+)')\n",
    "df_event['Date'] = df_event['Date'].str.replace('月', '')\n",
    "df_event['Date'] = df_event['Date'].str.replace('日', '')\n",
    "df_event['Date'] = '2018' + df_event['Date']\n",
    "df_event['Date'] = pd.to_datetime(df_event['Date'], format='%Y%m%d')\n",
    "df_event['Event'] = df_event['Event'].str.extract('　(.*)')\n",
    "df_event['ID'] = df_event['URL'].str.extract('([\\d]{4}).html')\n",
    "df_event.head()"
   ]
  },
  {
   "cell_type": "code",
   "execution_count": 7,
   "metadata": {},
   "outputs": [
    {
     "data": {
      "text/html": [
       "<div>\n",
       "<style scoped>\n",
       "    .dataframe tbody tr th:only-of-type {\n",
       "        vertical-align: middle;\n",
       "    }\n",
       "\n",
       "    .dataframe tbody tr th {\n",
       "        vertical-align: top;\n",
       "    }\n",
       "\n",
       "    .dataframe thead th {\n",
       "        text-align: right;\n",
       "    }\n",
       "</style>\n",
       "<table border=\"1\" class=\"dataframe\">\n",
       "  <thead>\n",
       "    <tr style=\"text-align: right;\">\n",
       "      <th></th>\n",
       "      <th>Event</th>\n",
       "      <th>URL</th>\n",
       "      <th>Date</th>\n",
       "      <th>ID</th>\n",
       "    </tr>\n",
       "  </thead>\n",
       "  <tbody>\n",
       "    <tr>\n",
       "      <th>0</th>\n",
       "      <td>千葉県東方沖を震源とする地震</td>\n",
       "      <td>http://www.fdma.go.jp/bn/2018/detail/1054.html</td>\n",
       "      <td>2018-07-07</td>\n",
       "      <td>1054</td>\n",
       "    </tr>\n",
       "    <tr>\n",
       "      <th>1</th>\n",
       "      <td>平成30年７月豪雨による被害状況及び消防機関等の対応状況</td>\n",
       "      <td>http://www.fdma.go.jp/bn/2018/detail/1052.html</td>\n",
       "      <td>2018-07-03</td>\n",
       "      <td>1052</td>\n",
       "    </tr>\n",
       "    <tr>\n",
       "      <th>2</th>\n",
       "      <td>大阪府北部を震源とする地震による被害及び消防機関等の対応状況</td>\n",
       "      <td>http://www.fdma.go.jp/bn/2018/detail/1050.html</td>\n",
       "      <td>2018-06-18</td>\n",
       "      <td>1050</td>\n",
       "    </tr>\n",
       "    <tr>\n",
       "      <th>3</th>\n",
       "      <td>群馬県南部を震源とする地震</td>\n",
       "      <td>http://www.fdma.go.jp/bn/2018/detail/1049.html</td>\n",
       "      <td>2018-06-17</td>\n",
       "      <td>1049</td>\n",
       "    </tr>\n",
       "    <tr>\n",
       "      <th>4</th>\n",
       "      <td>長野県北部を震源とする地震</td>\n",
       "      <td>http://www.fdma.go.jp/bn/2018/detail/1047.html</td>\n",
       "      <td>2018-05-25</td>\n",
       "      <td>1047</td>\n",
       "    </tr>\n",
       "  </tbody>\n",
       "</table>\n",
       "</div>"
      ],
      "text/plain": [
       "                            Event  \\\n",
       "0                  千葉県東方沖を震源とする地震   \n",
       "1    平成30年７月豪雨による被害状況及び消防機関等の対応状況   \n",
       "2  大阪府北部を震源とする地震による被害及び消防機関等の対応状況   \n",
       "3                   群馬県南部を震源とする地震   \n",
       "4                   長野県北部を震源とする地震   \n",
       "\n",
       "                                              URL       Date    ID  \n",
       "0  http://www.fdma.go.jp/bn/2018/detail/1054.html 2018-07-07  1054  \n",
       "1  http://www.fdma.go.jp/bn/2018/detail/1052.html 2018-07-03  1052  \n",
       "2  http://www.fdma.go.jp/bn/2018/detail/1050.html 2018-06-18  1050  \n",
       "3  http://www.fdma.go.jp/bn/2018/detail/1049.html 2018-06-17  1049  \n",
       "4  http://www.fdma.go.jp/bn/2018/detail/1047.html 2018-05-25  1047  "
      ]
     },
     "execution_count": 7,
     "metadata": {},
     "output_type": "execute_result"
    }
   ],
   "source": [
    "df_disasters = df_event[df_event['Event'].str.contains('雨|雪|地震|火山|土砂')]\n",
    "df_disasters = df_disasters[~df_disasters['Event'].str.contains('写真')]\n",
    "df_disasters = df_disasters[~df_disasters['Event'].str.contains('会議')]\n",
    "df_disasters = df_disasters[~df_disasters['Event'].str.contains('国際')]\n",
    "df_disasters['Event'] = df_disasters['Event'].str.replace('(', '（')\n",
    "df_disasters['Event'] = df_disasters['Event'].str.replace(')', '）')\n",
    "df_disasters['Event'] = df_disasters['Event'].str.extract('(.*)（.*）$')\n",
    "df_disasters = df_disasters.reset_index()\n",
    "df_disasters = df_disasters.drop(columns=['index'])\n",
    "df_disasters.head()"
   ]
  },
  {
   "cell_type": "code",
   "execution_count": 8,
   "metadata": {},
   "outputs": [
    {
     "data": {
      "text/html": [
       "<div>\n",
       "<style scoped>\n",
       "    .dataframe tbody tr th:only-of-type {\n",
       "        vertical-align: middle;\n",
       "    }\n",
       "\n",
       "    .dataframe tbody tr th {\n",
       "        vertical-align: top;\n",
       "    }\n",
       "\n",
       "    .dataframe thead th {\n",
       "        text-align: right;\n",
       "    }\n",
       "</style>\n",
       "<table border=\"1\" class=\"dataframe\">\n",
       "  <thead>\n",
       "    <tr style=\"text-align: right;\">\n",
       "      <th></th>\n",
       "      <th>Event</th>\n",
       "      <th>URL</th>\n",
       "      <th>Date</th>\n",
       "      <th>ID</th>\n",
       "      <th>Disaster</th>\n",
       "    </tr>\n",
       "  </thead>\n",
       "  <tbody>\n",
       "    <tr>\n",
       "      <th>0</th>\n",
       "      <td>千葉県東方沖を震源とする地震</td>\n",
       "      <td>http://www.fdma.go.jp/bn/2018/detail/1054.html</td>\n",
       "      <td>2018-07-07</td>\n",
       "      <td>1054</td>\n",
       "      <td>Earthquake</td>\n",
       "    </tr>\n",
       "    <tr>\n",
       "      <th>1</th>\n",
       "      <td>平成30年７月豪雨による被害状況及び消防機関等の対応状況</td>\n",
       "      <td>http://www.fdma.go.jp/bn/2018/detail/1052.html</td>\n",
       "      <td>2018-07-03</td>\n",
       "      <td>1052</td>\n",
       "      <td>Flood</td>\n",
       "    </tr>\n",
       "    <tr>\n",
       "      <th>2</th>\n",
       "      <td>大阪府北部を震源とする地震による被害及び消防機関等の対応状況</td>\n",
       "      <td>http://www.fdma.go.jp/bn/2018/detail/1050.html</td>\n",
       "      <td>2018-06-18</td>\n",
       "      <td>1050</td>\n",
       "      <td>Earthquake</td>\n",
       "    </tr>\n",
       "    <tr>\n",
       "      <th>3</th>\n",
       "      <td>群馬県南部を震源とする地震</td>\n",
       "      <td>http://www.fdma.go.jp/bn/2018/detail/1049.html</td>\n",
       "      <td>2018-06-17</td>\n",
       "      <td>1049</td>\n",
       "      <td>Earthquake</td>\n",
       "    </tr>\n",
       "    <tr>\n",
       "      <th>4</th>\n",
       "      <td>長野県北部を震源とする地震</td>\n",
       "      <td>http://www.fdma.go.jp/bn/2018/detail/1047.html</td>\n",
       "      <td>2018-05-25</td>\n",
       "      <td>1047</td>\n",
       "      <td>Earthquake</td>\n",
       "    </tr>\n",
       "  </tbody>\n",
       "</table>\n",
       "</div>"
      ],
      "text/plain": [
       "                            Event  \\\n",
       "0                  千葉県東方沖を震源とする地震   \n",
       "1    平成30年７月豪雨による被害状況及び消防機関等の対応状況   \n",
       "2  大阪府北部を震源とする地震による被害及び消防機関等の対応状況   \n",
       "3                   群馬県南部を震源とする地震   \n",
       "4                   長野県北部を震源とする地震   \n",
       "\n",
       "                                              URL       Date    ID    Disaster  \n",
       "0  http://www.fdma.go.jp/bn/2018/detail/1054.html 2018-07-07  1054  Earthquake  \n",
       "1  http://www.fdma.go.jp/bn/2018/detail/1052.html 2018-07-03  1052       Flood  \n",
       "2  http://www.fdma.go.jp/bn/2018/detail/1050.html 2018-06-18  1050  Earthquake  \n",
       "3  http://www.fdma.go.jp/bn/2018/detail/1049.html 2018-06-17  1049  Earthquake  \n",
       "4  http://www.fdma.go.jp/bn/2018/detail/1047.html 2018-05-25  1047  Earthquake  "
      ]
     },
     "execution_count": 8,
     "metadata": {},
     "output_type": "execute_result"
    }
   ],
   "source": [
    "df_disasters['Disaster'] = df_disasters['Event'].str.replace('.*雨.*', 'Flood')\n",
    "df_disasters['Disaster'] = df_disasters['Disaster'].str.replace('.*雪.*', 'Snow')\n",
    "df_disasters['Disaster'] = df_disasters['Disaster'].str.replace('.*地震.*', 'Earthquake')\n",
    "df_disasters['Disaster'] = df_disasters['Disaster'].str.replace('.*火山.*', 'Volcano')\n",
    "df_disasters['Disaster'] = df_disasters['Disaster'].str.replace('.*土砂.*', 'Others')\n",
    "df_disasters.head()"
   ]
  },
  {
   "cell_type": "code",
   "execution_count": 9,
   "metadata": {},
   "outputs": [],
   "source": [
    "pdf_list = []\n",
    "for url in df_disasters['URL']:\n",
    "    driver.get(url)\n",
    "    pdf = driver.find_element_by_class_name('pdf').find_element_by_tag_name('a').get_attribute('href')\n",
    "    pdf_list.append(pdf)"
   ]
  },
  {
   "cell_type": "code",
   "execution_count": 10,
   "metadata": {
    "scrolled": true
   },
   "outputs": [
    {
     "data": {
      "text/html": [
       "<div>\n",
       "<style scoped>\n",
       "    .dataframe tbody tr th:only-of-type {\n",
       "        vertical-align: middle;\n",
       "    }\n",
       "\n",
       "    .dataframe tbody tr th {\n",
       "        vertical-align: top;\n",
       "    }\n",
       "\n",
       "    .dataframe thead th {\n",
       "        text-align: right;\n",
       "    }\n",
       "</style>\n",
       "<table border=\"1\" class=\"dataframe\">\n",
       "  <thead>\n",
       "    <tr style=\"text-align: right;\">\n",
       "      <th></th>\n",
       "      <th>Event</th>\n",
       "      <th>Date</th>\n",
       "      <th>PDF</th>\n",
       "      <th>ID</th>\n",
       "    </tr>\n",
       "  </thead>\n",
       "  <tbody>\n",
       "    <tr>\n",
       "      <th>0</th>\n",
       "      <td>千葉県東方沖を震源とする地震</td>\n",
       "      <td>2018-07-07</td>\n",
       "      <td>http://www.fdma.go.jp/bn/1bb99d4777f0f694cb028...</td>\n",
       "      <td>1054</td>\n",
       "    </tr>\n",
       "    <tr>\n",
       "      <th>1</th>\n",
       "      <td>平成30年７月豪雨による被害状況及び消防機関等の対応状況</td>\n",
       "      <td>2018-07-03</td>\n",
       "      <td>http://www.fdma.go.jp/bn/0c397ca46f241509610be...</td>\n",
       "      <td>1052</td>\n",
       "    </tr>\n",
       "    <tr>\n",
       "      <th>2</th>\n",
       "      <td>大阪府北部を震源とする地震による被害及び消防機関等の対応状況</td>\n",
       "      <td>2018-06-18</td>\n",
       "      <td>http://www.fdma.go.jp/bn/6463f3b06e101370929aa...</td>\n",
       "      <td>1050</td>\n",
       "    </tr>\n",
       "    <tr>\n",
       "      <th>3</th>\n",
       "      <td>群馬県南部を震源とする地震</td>\n",
       "      <td>2018-06-17</td>\n",
       "      <td>http://www.fdma.go.jp/bn/ee834d7a6fcb77a06256a...</td>\n",
       "      <td>1049</td>\n",
       "    </tr>\n",
       "    <tr>\n",
       "      <th>4</th>\n",
       "      <td>長野県北部を震源とする地震</td>\n",
       "      <td>2018-05-25</td>\n",
       "      <td>http://www.fdma.go.jp/bn/82a514aa4c3d491d6213d...</td>\n",
       "      <td>1047</td>\n",
       "    </tr>\n",
       "    <tr>\n",
       "      <th>5</th>\n",
       "      <td>長野県北部を震源とする地震</td>\n",
       "      <td>2018-05-12</td>\n",
       "      <td>http://www.fdma.go.jp/bn/5f12764e0eefb82a98c8e...</td>\n",
       "      <td>1046</td>\n",
       "    </tr>\n",
       "    <tr>\n",
       "      <th>6</th>\n",
       "      <td>霧島山（えびの高原（硫黄山）周辺）の火山活動による被害及び消防機関等の対応状況</td>\n",
       "      <td>2018-04-19</td>\n",
       "      <td>http://www.fdma.go.jp/bn/4cf466cef3efc0050da18...</td>\n",
       "      <td>1044</td>\n",
       "    </tr>\n",
       "    <tr>\n",
       "      <th>7</th>\n",
       "      <td>根室半島南東沖を震源とする地震</td>\n",
       "      <td>2018-04-14</td>\n",
       "      <td>http://www.fdma.go.jp/bn/2c8f4233ea3787005facb...</td>\n",
       "      <td>1042</td>\n",
       "    </tr>\n",
       "    <tr>\n",
       "      <th>8</th>\n",
       "      <td>今冬の雪による被害状況等</td>\n",
       "      <td>2018-04-13</td>\n",
       "      <td>http://www.fdma.go.jp/bn/e347416dc14c30a0a2df0...</td>\n",
       "      <td>1029</td>\n",
       "    </tr>\n",
       "    <tr>\n",
       "      <th>9</th>\n",
       "      <td>大分県中津市において発生した土砂災害による被害</td>\n",
       "      <td>2018-04-11</td>\n",
       "      <td>http://www.fdma.go.jp/bn/d62532d7aa49a52b62668...</td>\n",
       "      <td>1041</td>\n",
       "    </tr>\n",
       "    <tr>\n",
       "      <th>10</th>\n",
       "      <td>島根県西部を震源とする地震</td>\n",
       "      <td>2018-04-09</td>\n",
       "      <td>http://www.fdma.go.jp/bn/30ee90740ad8997c27f2b...</td>\n",
       "      <td>1039</td>\n",
       "    </tr>\n",
       "    <tr>\n",
       "      <th>11</th>\n",
       "      <td>西表島付近を震源とする地震</td>\n",
       "      <td>2018-03-01</td>\n",
       "      <td>http://www.fdma.go.jp/bn/9bfee32e829b9c293bf12...</td>\n",
       "      <td>1038</td>\n",
       "    </tr>\n",
       "    <tr>\n",
       "      <th>12</th>\n",
       "      <td>霧島山（新燃岳）の火山活動による被害及び消防機関等の活動状況</td>\n",
       "      <td>2018-03-01</td>\n",
       "      <td>http://www.fdma.go.jp/bn/65c0d903861f374b9adf0...</td>\n",
       "      <td>1037</td>\n",
       "    </tr>\n",
       "    <tr>\n",
       "      <th>13</th>\n",
       "      <td>2月4日からの大雪等による被害状況等について</td>\n",
       "      <td>2018-02-06</td>\n",
       "      <td>http://www.fdma.go.jp/bn/71496d17c34512ec7346a...</td>\n",
       "      <td>1035</td>\n",
       "    </tr>\n",
       "    <tr>\n",
       "      <th>14</th>\n",
       "      <td>本白根山の火山活動による被害及び消防機関等の対応状況等</td>\n",
       "      <td>2018-01-23</td>\n",
       "      <td>http://www.fdma.go.jp/bn/e4b5e771fd12f6b904501...</td>\n",
       "      <td>1031</td>\n",
       "    </tr>\n",
       "    <tr>\n",
       "      <th>15</th>\n",
       "      <td>1月22日からの大雪等による被害状況等について</td>\n",
       "      <td>2018-01-23</td>\n",
       "      <td>http://www.fdma.go.jp/bn/6fcb591ec78e9859edfe9...</td>\n",
       "      <td>1030</td>\n",
       "    </tr>\n",
       "  </tbody>\n",
       "</table>\n",
       "</div>"
      ],
      "text/plain": [
       "                                      Event       Date  \\\n",
       "0                            千葉県東方沖を震源とする地震 2018-07-07   \n",
       "1              平成30年７月豪雨による被害状況及び消防機関等の対応状況 2018-07-03   \n",
       "2            大阪府北部を震源とする地震による被害及び消防機関等の対応状況 2018-06-18   \n",
       "3                             群馬県南部を震源とする地震 2018-06-17   \n",
       "4                             長野県北部を震源とする地震 2018-05-25   \n",
       "5                             長野県北部を震源とする地震 2018-05-12   \n",
       "6   霧島山（えびの高原（硫黄山）周辺）の火山活動による被害及び消防機関等の対応状況 2018-04-19   \n",
       "7                           根室半島南東沖を震源とする地震 2018-04-14   \n",
       "8                              今冬の雪による被害状況等 2018-04-13   \n",
       "9                   大分県中津市において発生した土砂災害による被害 2018-04-11   \n",
       "10                            島根県西部を震源とする地震 2018-04-09   \n",
       "11                            西表島付近を震源とする地震 2018-03-01   \n",
       "12           霧島山（新燃岳）の火山活動による被害及び消防機関等の活動状況 2018-03-01   \n",
       "13                   2月4日からの大雪等による被害状況等について 2018-02-06   \n",
       "14              本白根山の火山活動による被害及び消防機関等の対応状況等 2018-01-23   \n",
       "15                  1月22日からの大雪等による被害状況等について 2018-01-23   \n",
       "\n",
       "                                                  PDF    ID  \n",
       "0   http://www.fdma.go.jp/bn/1bb99d4777f0f694cb028...  1054  \n",
       "1   http://www.fdma.go.jp/bn/0c397ca46f241509610be...  1052  \n",
       "2   http://www.fdma.go.jp/bn/6463f3b06e101370929aa...  1050  \n",
       "3   http://www.fdma.go.jp/bn/ee834d7a6fcb77a06256a...  1049  \n",
       "4   http://www.fdma.go.jp/bn/82a514aa4c3d491d6213d...  1047  \n",
       "5   http://www.fdma.go.jp/bn/5f12764e0eefb82a98c8e...  1046  \n",
       "6   http://www.fdma.go.jp/bn/4cf466cef3efc0050da18...  1044  \n",
       "7   http://www.fdma.go.jp/bn/2c8f4233ea3787005facb...  1042  \n",
       "8   http://www.fdma.go.jp/bn/e347416dc14c30a0a2df0...  1029  \n",
       "9   http://www.fdma.go.jp/bn/d62532d7aa49a52b62668...  1041  \n",
       "10  http://www.fdma.go.jp/bn/30ee90740ad8997c27f2b...  1039  \n",
       "11  http://www.fdma.go.jp/bn/9bfee32e829b9c293bf12...  1038  \n",
       "12  http://www.fdma.go.jp/bn/65c0d903861f374b9adf0...  1037  \n",
       "13  http://www.fdma.go.jp/bn/71496d17c34512ec7346a...  1035  \n",
       "14  http://www.fdma.go.jp/bn/e4b5e771fd12f6b904501...  1031  \n",
       "15  http://www.fdma.go.jp/bn/6fcb591ec78e9859edfe9...  1030  "
      ]
     },
     "execution_count": 10,
     "metadata": {},
     "output_type": "execute_result"
    }
   ],
   "source": [
    "df_disasters['PDF'] = pdf_list\n",
    "df_disasters[['Event', 'Date', 'PDF', 'ID']]"
   ]
  },
  {
   "cell_type": "code",
   "execution_count": 11,
   "metadata": {},
   "outputs": [],
   "source": [
    "import requests\n",
    "import pdftotext\n",
    "import tabula\n",
    "import re"
   ]
  },
  {
   "cell_type": "code",
   "execution_count": 12,
   "metadata": {},
   "outputs": [],
   "source": [
    "num = -1\n",
    "for URL in df_disasters['PDF']:\n",
    "    num = num + 1\n",
    "    url = URL\n",
    "    response = requests.get(url)\n",
    "    with open('./PDF/'+df_disasters['ID'][num]+'.pdf', 'wb') as f:\n",
    "        f.write(response.content)"
   ]
  },
  {
   "cell_type": "code",
   "execution_count": 13,
   "metadata": {},
   "outputs": [],
   "source": [
    "def pdf_to_string(file):\n",
    "    pdf_string = \"\"\n",
    "    with open(file, \"rb\") as f:\n",
    "        pdf = pdftotext.PDF(f)\n",
    "        for page in pdf:\n",
    "            pdf_string += page\n",
    "    return pdf_string"
   ]
  },
  {
   "cell_type": "code",
   "execution_count": 14,
   "metadata": {},
   "outputs": [],
   "source": [
    "PDF_text = []\n",
    "for ID in df_disasters['ID']:\n",
    "    PDF_dic = {}\n",
    "    PDF_dic['ID'] = ID\n",
    "    PDF_dic['Text'] = pdf_to_string('./PDF/'+ID+'.pdf').split('\\n')\n",
    "    PDF_text.append(PDF_dic)"
   ]
  },
  {
   "cell_type": "code",
   "execution_count": 15,
   "metadata": {
    "scrolled": true
   },
   "outputs": [],
   "source": [
    "PDF = pd.DataFrame(PDF_text)"
   ]
  },
  {
   "cell_type": "code",
   "execution_count": 16,
   "metadata": {},
   "outputs": [
    {
     "data": {
      "text/html": [
       "<div>\n",
       "<style scoped>\n",
       "    .dataframe tbody tr th:only-of-type {\n",
       "        vertical-align: middle;\n",
       "    }\n",
       "\n",
       "    .dataframe tbody tr th {\n",
       "        vertical-align: top;\n",
       "    }\n",
       "\n",
       "    .dataframe thead th {\n",
       "        text-align: right;\n",
       "    }\n",
       "</style>\n",
       "<table border=\"1\" class=\"dataframe\">\n",
       "  <thead>\n",
       "    <tr style=\"text-align: right;\">\n",
       "      <th></th>\n",
       "      <th>ID</th>\n",
       "      <th>Text</th>\n",
       "    </tr>\n",
       "  </thead>\n",
       "  <tbody>\n",
       "    <tr>\n",
       "      <th>0</th>\n",
       "      <td>1054</td>\n",
       "      <td>[           千葉県東方沖を震源とする地震による被害及び,            ...</td>\n",
       "    </tr>\n",
       "    <tr>\n",
       "      <th>1</th>\n",
       "      <td>1052</td>\n",
       "      <td>[         平成３０年７月豪雨による被害状況及び消防機関等,            ...</td>\n",
       "    </tr>\n",
       "    <tr>\n",
       "      <th>2</th>\n",
       "      <td>1050</td>\n",
       "      <td>[             大阪府北部を震源とする地震による被害及び,           ...</td>\n",
       "    </tr>\n",
       "    <tr>\n",
       "      <th>3</th>\n",
       "      <td>1049</td>\n",
       "      <td>[            群馬県南部を震源とする地震による被害及び,            ...</td>\n",
       "    </tr>\n",
       "    <tr>\n",
       "      <th>4</th>\n",
       "      <td>1047</td>\n",
       "      <td>[            長野県北部を震源とする地震による被害及び,            ...</td>\n",
       "    </tr>\n",
       "    <tr>\n",
       "      <th>5</th>\n",
       "      <td>1046</td>\n",
       "      <td>[            長野県北部を震源とする地震による被害及び,            ...</td>\n",
       "    </tr>\n",
       "    <tr>\n",
       "      <th>6</th>\n",
       "      <td>1044</td>\n",
       "      <td>[     霧島山（えびの高原（硫黄山）周辺）の火山活動による被害及び,          ...</td>\n",
       "    </tr>\n",
       "    <tr>\n",
       "      <th>7</th>\n",
       "      <td>1042</td>\n",
       "      <td>[          根室半島南東沖を震源とする地震による被害及び,            ...</td>\n",
       "    </tr>\n",
       "    <tr>\n",
       "      <th>8</th>\n",
       "      <td>1029</td>\n",
       "      <td>[      今冬の雪による被害状況等（～平成30年3月31日）,             ...</td>\n",
       "    </tr>\n",
       "    <tr>\n",
       "      <th>9</th>\n",
       "      <td>1041</td>\n",
       "      <td>[      大分県中津市において発生した土砂災害による被害及び,             ...</td>\n",
       "    </tr>\n",
       "    <tr>\n",
       "      <th>10</th>\n",
       "      <td>1039</td>\n",
       "      <td>[            島根県西部を震源とする地震による被害及び,            ...</td>\n",
       "    </tr>\n",
       "    <tr>\n",
       "      <th>11</th>\n",
       "      <td>1038</td>\n",
       "      <td>[            西表島付近を震源とする地震による被害及び,            ...</td>\n",
       "    </tr>\n",
       "    <tr>\n",
       "      <th>12</th>\n",
       "      <td>1037</td>\n",
       "      <td>[             霧島山（新燃岳）の火山活動による被害及び,           ...</td>\n",
       "    </tr>\n",
       "    <tr>\n",
       "      <th>13</th>\n",
       "      <td>1035</td>\n",
       "      <td>[     ２月４日からの大雪等による被害状況等について（第１５報）,           ...</td>\n",
       "    </tr>\n",
       "    <tr>\n",
       "      <th>14</th>\n",
       "      <td>1031</td>\n",
       "      <td>[               本白根山の火山活動による被害及び,             ...</td>\n",
       "    </tr>\n",
       "    <tr>\n",
       "      <th>15</th>\n",
       "      <td>1030</td>\n",
       "      <td>[     １月２２日からの大雪等による被害状況等について（第６報）,           ...</td>\n",
       "    </tr>\n",
       "  </tbody>\n",
       "</table>\n",
       "</div>"
      ],
      "text/plain": [
       "      ID                                               Text\n",
       "0   1054  [           千葉県東方沖を震源とする地震による被害及び,            ...\n",
       "1   1052  [         平成３０年７月豪雨による被害状況及び消防機関等,            ...\n",
       "2   1050  [             大阪府北部を震源とする地震による被害及び,           ...\n",
       "3   1049  [            群馬県南部を震源とする地震による被害及び,            ...\n",
       "4   1047  [            長野県北部を震源とする地震による被害及び,            ...\n",
       "5   1046  [            長野県北部を震源とする地震による被害及び,            ...\n",
       "6   1044  [     霧島山（えびの高原（硫黄山）周辺）の火山活動による被害及び,          ...\n",
       "7   1042  [          根室半島南東沖を震源とする地震による被害及び,            ...\n",
       "8   1029  [      今冬の雪による被害状況等（～平成30年3月31日）,             ...\n",
       "9   1041  [      大分県中津市において発生した土砂災害による被害及び,             ...\n",
       "10  1039  [            島根県西部を震源とする地震による被害及び,            ...\n",
       "11  1038  [            西表島付近を震源とする地震による被害及び,            ...\n",
       "12  1037  [             霧島山（新燃岳）の火山活動による被害及び,           ...\n",
       "13  1035  [     ２月４日からの大雪等による被害状況等について（第１５報）,           ...\n",
       "14  1031  [               本白根山の火山活動による被害及び,             ...\n",
       "15  1030  [     １月２２日からの大雪等による被害状況等について（第６報）,           ..."
      ]
     },
     "execution_count": 16,
     "metadata": {},
     "output_type": "execute_result"
    }
   ],
   "source": [
    "PDF"
   ]
  },
  {
   "cell_type": "code",
   "execution_count": 17,
   "metadata": {},
   "outputs": [],
   "source": [
    "damages = []\n",
    "\n",
    "num1 = -1\n",
    "for text in PDF['Text']:\n",
    "    num1 = num1 + 1\n",
    "    num2 = -1\n",
    "    for line in text:\n",
    "        num2 = num2 + 1\n",
    "        damage_dic = {}\n",
    "        try:\n",
    "            damage_dic['ID'] = PDF['ID'][num1]\n",
    "            damage_dic['Line'] = num2\n",
    "            damage_dic['Damage'] = re.findall(r'.*人.*的.*', line)[0]\n",
    "            damages.append(damage_dic)\n",
    "        except:\n",
    "            pass"
   ]
  },
  {
   "cell_type": "code",
   "execution_count": 18,
   "metadata": {
    "scrolled": true
   },
   "outputs": [
    {
     "data": {
      "text/html": [
       "<div>\n",
       "<style scoped>\n",
       "    .dataframe tbody tr th:only-of-type {\n",
       "        vertical-align: middle;\n",
       "    }\n",
       "\n",
       "    .dataframe tbody tr th {\n",
       "        vertical-align: top;\n",
       "    }\n",
       "\n",
       "    .dataframe thead th {\n",
       "        text-align: right;\n",
       "    }\n",
       "</style>\n",
       "<table border=\"1\" class=\"dataframe\">\n",
       "  <thead>\n",
       "    <tr style=\"text-align: right;\">\n",
       "      <th></th>\n",
       "      <th>Damage</th>\n",
       "      <th>ID</th>\n",
       "      <th>Line</th>\n",
       "    </tr>\n",
       "  </thead>\n",
       "  <tbody>\n",
       "    <tr>\n",
       "      <th>0</th>\n",
       "      <td>２   人的・建物被害等の状況</td>\n",
       "      <td>1054</td>\n",
       "      <td>14</td>\n",
       "    </tr>\n",
       "    <tr>\n",
       "      <th>1</th>\n",
       "      <td>人的・建物被害</td>\n",
       "      <td>1052</td>\n",
       "      <td>11</td>\n",
       "    </tr>\n",
       "    <tr>\n",
       "      <th>2</th>\n",
       "      <td>人   的  被   害                 ...</td>\n",
       "      <td>1052</td>\n",
       "      <td>12</td>\n",
       "    </tr>\n",
       "    <tr>\n",
       "      <th>3</th>\n",
       "      <td>(2) 人的・建物被害</td>\n",
       "      <td>1050</td>\n",
       "      <td>22</td>\n",
       "    </tr>\n",
       "    <tr>\n",
       "      <th>4</th>\n",
       "      <td>人  的 被  害               住     ...</td>\n",
       "      <td>1050</td>\n",
       "      <td>23</td>\n",
       "    </tr>\n",
       "    <tr>\n",
       "      <th>5</th>\n",
       "      <td>(1) 人的被害</td>\n",
       "      <td>1049</td>\n",
       "      <td>15</td>\n",
       "    </tr>\n",
       "    <tr>\n",
       "      <th>6</th>\n",
       "      <td>人的・建物被害等</td>\n",
       "      <td>1047</td>\n",
       "      <td>15</td>\n",
       "    </tr>\n",
       "    <tr>\n",
       "      <th>7</th>\n",
       "      <td>人的・建物被害等</td>\n",
       "      <td>1046</td>\n",
       "      <td>15</td>\n",
       "    </tr>\n",
       "    <tr>\n",
       "      <th>8</th>\n",
       "      <td>（１）人的被害</td>\n",
       "      <td>1044</td>\n",
       "      <td>14</td>\n",
       "    </tr>\n",
       "    <tr>\n",
       "      <th>9</th>\n",
       "      <td>人的・建物被害等</td>\n",
       "      <td>1042</td>\n",
       "      <td>15</td>\n",
       "    </tr>\n",
       "    <tr>\n",
       "      <th>10</th>\n",
       "      <td>人的被害                 住家被害        ...</td>\n",
       "      <td>1029</td>\n",
       "      <td>5</td>\n",
       "    </tr>\n",
       "    <tr>\n",
       "      <th>11</th>\n",
       "      <td>(1) 人的被害</td>\n",
       "      <td>1041</td>\n",
       "      <td>13</td>\n",
       "    </tr>\n",
       "    <tr>\n",
       "      <th>12</th>\n",
       "      <td>(1) 人的被害</td>\n",
       "      <td>1039</td>\n",
       "      <td>16</td>\n",
       "    </tr>\n",
       "    <tr>\n",
       "      <th>13</th>\n",
       "      <td>(1) 人的被害</td>\n",
       "      <td>1038</td>\n",
       "      <td>15</td>\n",
       "    </tr>\n",
       "    <tr>\n",
       "      <th>14</th>\n",
       "      <td>（１）人的被害</td>\n",
       "      <td>1037</td>\n",
       "      <td>18</td>\n",
       "    </tr>\n",
       "    <tr>\n",
       "      <th>15</th>\n",
       "      <td>人  的 被 害               住    家   ...</td>\n",
       "      <td>1035</td>\n",
       "      <td>16</td>\n",
       "    </tr>\n",
       "    <tr>\n",
       "      <th>16</th>\n",
       "      <td>⑵ 人的被害</td>\n",
       "      <td>1031</td>\n",
       "      <td>16</td>\n",
       "    </tr>\n",
       "    <tr>\n",
       "      <th>17</th>\n",
       "      <td>人  的 被 害             住  家   被  害 ...</td>\n",
       "      <td>1030</td>\n",
       "      <td>12</td>\n",
       "    </tr>\n",
       "  </tbody>\n",
       "</table>\n",
       "</div>"
      ],
      "text/plain": [
       "                                               Damage    ID  Line\n",
       "0                                     ２   人的・建物被害等の状況  1054    14\n",
       "1                                             人的・建物被害  1052    11\n",
       "2                    人   的  被   害                 ...  1052    12\n",
       "3                                         (2) 人的・建物被害  1050    22\n",
       "4                   人  的 被  害               住     ...  1050    23\n",
       "5                                            (1) 人的被害  1049    15\n",
       "6                                            人的・建物被害等  1047    15\n",
       "7                                            人的・建物被害等  1046    15\n",
       "8                                             （１）人的被害  1044    14\n",
       "9                                            人的・建物被害等  1042    15\n",
       "10               人的被害                 住家被害        ...  1029     5\n",
       "11                                           (1) 人的被害  1041    13\n",
       "12                                           (1) 人的被害  1039    16\n",
       "13                                           (1) 人的被害  1038    15\n",
       "14                                            （１）人的被害  1037    18\n",
       "15                人  的 被 害               住    家   ...  1035    16\n",
       "16                                             ⑵ 人的被害  1031    16\n",
       "17               人  的 被 害             住  家   被  害 ...  1030    12"
      ]
     },
     "execution_count": 18,
     "metadata": {},
     "output_type": "execute_result"
    }
   ],
   "source": [
    "df_damages = pd.DataFrame(damages)\n",
    "df_damages"
   ]
  },
  {
   "cell_type": "code",
   "execution_count": 19,
   "metadata": {},
   "outputs": [
    {
     "data": {
      "text/plain": [
       "['２   人的・建物被害等の状況', '    被害情報なし']"
      ]
     },
     "execution_count": 19,
     "metadata": {},
     "output_type": "execute_result"
    }
   ],
   "source": [
    "PDF['Text'][0][14:16]"
   ]
  },
  {
   "cell_type": "code",
   "execution_count": 20,
   "metadata": {},
   "outputs": [
    {
     "data": {
      "text/plain": [
       "['   人的・建物被害',\n",
       " '                 人   的  被   害                     住     家    被   害             非住家被害',\n",
       " '               行 方          負 傷 者                        一部     床上     床下     公共',\n",
       " '   都道府県名 死者                                全壊     半壊                               その他',\n",
       " '               不明者    重傷     軽傷    程度不明                  破損     浸水     浸水     建物',\n",
       " '          人     人      人      人     人       棟     棟       棟      棟      棟      棟    棟',\n",
       " '    北海道                                                       1      7    121          3',\n",
       " '    秋田県                                                       1',\n",
       " '    福島県                                                       9',\n",
       " '   神奈川県                                                              1      1',\n",
       " '    富山県                                                                     2          1',\n",
       " '    石川県                                                                     9',\n",
       " '    福井県                                                       3            15',\n",
       " '    長野県                                                       1      1     18',\n",
       " '    岐阜県      1            2      1              3     4     112    410    781          1',\n",
       " '    静岡県                                                                     4',\n",
       " '    滋賀県      1                                                              1',\n",
       " '    京都府      5            1      6     1       13    11      56    504  2,120',\n",
       " '    大阪府                   2                     1             9      7     25          8',\n",
       " '    兵庫県      2            2      9              6     7      23     91    774',\n",
       " '    奈良県      1                                                1      1     19',\n",
       " '   和歌山県                          1                    2       1     47    192         11',\n",
       " '    鳥取県                                                       3      7     54',\n",
       " '    島根県                                        67   154       2      2     64          2',\n",
       " '    岡山県     61     3      8    152          2,250   113      76  5,510  6,130',\n",
       " '    広島県    107     7     29     79            350   516     600  2,287  3,908',\n",
       " '    山口県      3            1      8              9    10      29    534    522',\n",
       " '    徳島県                                                       4      5     14',\n",
       " '    香川県                          3                           10      1      9          2',\n",
       " '    愛媛県     26            3      6     2       35   171      34  4,499  2,173',\n",
       " '    高知県      3                   1             11    55      26    169    659',\n",
       " '    福岡県      4            6     14             13    24     132    903  2,100    3     8',\n",
       " '    佐賀県      2            1      4              1     3      14     33    242          3',\n",
       " '    長崎県                         10              1             4      4     18    1',\n",
       " '    熊本県                   1                           3       4      3     71    2     4',\n",
       " '    大分県                   1      3              2     1       3            12          1',\n",
       " '    宮崎県      1            1',\n",
       " '   鹿児島県      2                   1              1             5             3          1',\n",
       " '    沖縄県                          5',\n",
       " '    合 計    219    10     58    303     3   2,763  1,074   1,163 15,026 20,061    6    45',\n",
       " '  ※そのほか、連絡がとれない者の情報有り']"
      ]
     },
     "execution_count": 20,
     "metadata": {},
     "output_type": "execute_result"
    }
   ],
   "source": [
    "PDF['Text'][1][11:52]"
   ]
  },
  {
   "cell_type": "code",
   "execution_count": 21,
   "metadata": {
    "scrolled": true
   },
   "outputs": [
    {
     "data": {
      "text/plain": [
       "['２   被害の状況',\n",
       " '  (1) 火災の状況',\n",
       " '    【大阪府】 大阪市 ３件',\n",
       " '    【兵庫県】 尼崎市 ４件',\n",
       " '  (2) 人的・建物被害',\n",
       " '                人  的 被  害               住     家    被     害       非住家被害',\n",
       " '                行 方     負 傷 者                  一部       床上   床下 公共',\n",
       " '都道府県名     死者                      全壊    半壊                            その他',\n",
       " '                不明者   重傷    軽傷                 破損       浸水   浸水 建物',\n",
       " '           人      人    人     人     棟    棟       棟        棟    棟  棟     棟',\n",
       " '  三重県                     1     1',\n",
       " '  滋賀県                           3',\n",
       " '  京都府                     1    21               2,434',\n",
       " '  大阪府         4           9   351    10   181  30,524             675    11',\n",
       " '  兵庫県                     4    38                   4',\n",
       " '  奈良県                           4                  27',\n",
       " '  徳島県                           1',\n",
       " '  合   計       4          15   419    10   181  32,989             675    11']"
      ]
     },
     "execution_count": 21,
     "metadata": {},
     "output_type": "execute_result"
    }
   ],
   "source": [
    "PDF['Text'][2][18:36]"
   ]
  },
  {
   "cell_type": "code",
   "execution_count": 22,
   "metadata": {
    "scrolled": true
   },
   "outputs": [
    {
     "data": {
      "text/plain": [
       "['２   被害の状況',\n",
       " '  (1) 人的被害',\n",
       " '    【群馬県】',\n",
       " '      なし',\n",
       " '  (2) 住家被害',\n",
       " '    【群馬県】',\n",
       " '      ４棟',\n",
       " '      ・渋川市２棟（一部破損）',\n",
       " '      ・前橋市２棟（一部破損）']"
      ]
     },
     "execution_count": 22,
     "metadata": {},
     "output_type": "execute_result"
    }
   ],
   "source": [
    "PDF['Text'][3][14:23]"
   ]
  },
  {
   "cell_type": "code",
   "execution_count": 23,
   "metadata": {
    "scrolled": true
   },
   "outputs": [
    {
     "data": {
      "text/plain": [
       "['２   被害の状況', '    人的・建物被害等', '    被害情報なし']"
      ]
     },
     "execution_count": 23,
     "metadata": {},
     "output_type": "execute_result"
    }
   ],
   "source": [
    "PDF['Text'][4][14:17]"
   ]
  },
  {
   "cell_type": "code",
   "execution_count": 24,
   "metadata": {
    "scrolled": true
   },
   "outputs": [
    {
     "data": {
      "text/plain": [
       "['２   被害の状況', '    人的・建物被害等', '    被害情報なし']"
      ]
     },
     "execution_count": 24,
     "metadata": {},
     "output_type": "execute_result"
    }
   ],
   "source": [
    "PDF['Text'][5][14:17]"
   ]
  },
  {
   "cell_type": "code",
   "execution_count": 25,
   "metadata": {
    "scrolled": true
   },
   "outputs": [
    {
     "data": {
      "text/plain": [
       "['２  被害の状況', '  （１）人的被害', '     被害情報なし', '  （２）住家被害', '     被害情報なし']"
      ]
     },
     "execution_count": 25,
     "metadata": {},
     "output_type": "execute_result"
    }
   ],
   "source": [
    "PDF['Text'][6][13:18]"
   ]
  },
  {
   "cell_type": "code",
   "execution_count": 26,
   "metadata": {
    "scrolled": true
   },
   "outputs": [
    {
     "data": {
      "text/plain": [
       "['２   被害の状況', '    人的・建物被害等', '    被害情報なし']"
      ]
     },
     "execution_count": 26,
     "metadata": {},
     "output_type": "execute_result"
    }
   ],
   "source": [
    "PDF['Text'][7][14:17]"
   ]
  },
  {
   "cell_type": "code",
   "execution_count": 27,
   "metadata": {
    "scrolled": true
   },
   "outputs": [
    {
     "data": {
      "text/plain": [
       "['１ 主な被害及び災害対策本部の設置状況（概数）',\n",
       " '             人的被害                 住家被害             非住家被害       災対本部',\n",
       " '   都道  死 者',\n",
       " '            行方',\n",
       " '               重 傷  軽 傷   全 壊 半 壊',\n",
       " '                                   一部    床上   床下   公共',\n",
       " '                                                         その他',\n",
       " '  府県名       不明                     破損    浸水   浸水   施設         都道     市区',\n",
       " '                                                              府県     町村',\n",
       " '        人   人   人    人     棟   棟   棟     棟    棟     棟     棟',\n",
       " '  北海道    22     130   194    2   6   41   11   19    24    69           12',\n",
       " '  青 森     4      21    37                                   1',\n",
       " '  岩 手     4      22    35             2               1     3',\n",
       " '  宮 城     2       2     4                                                1',\n",
       " '  秋 田     7     104    61    1        7                    71            3',\n",
       " '  山 形    16      90    63    1        9     1    5         28     1',\n",
       " '  福 島     5      17    31        2    4          3    1    11            3',\n",
       " '  茨 城                   8',\n",
       " '  栃 木                   4',\n",
       " '  群 馬             7     8',\n",
       " '  埼 玉             2     8',\n",
       " '  千 葉             1     8',\n",
       " '  東 京     1       5    26                                                1',\n",
       " '  神奈川             2    15             3',\n",
       " '  新 潟    20     124   142    2       26     1    1         47     1      5',\n",
       " '  富 山     6      13    48             3          1          6',\n",
       " '  石 川     2      16    68    2   5    7          2         13',\n",
       " '  福 井    14      35   104    1   5  217          7    6    86     1      8',\n",
       " '  山 梨             3     6',\n",
       " '  長 野     8      13    28',\n",
       " '  岐 阜     3      11     7',\n",
       " '  静 岡                   2',\n",
       " '  愛 知',\n",
       " '  三 重                   1                                         1      7',\n",
       " '  滋 賀',\n",
       " '  京 都             4     2             1          2          3            3',\n",
       " '  大 阪',\n",
       " '  兵 庫     1       1     2             2                     2',\n",
       " '  奈 良',\n",
       " '  和歌山',\n",
       " '  鳥 取',\n",
       " '  島 根                                 3                     2            2',\n",
       " '  岡 山     1',\n",
       " '  広 島',\n",
       " '  山 口',\n",
       " '  徳 島',\n",
       " '  香 川',\n",
       " '  愛 媛                                                       1            1',\n",
       " '  高 知',\n",
       " '  福 岡',\n",
       " '  佐 賀',\n",
       " '  長 崎',\n",
       " '  熊 本                                 1',\n",
       " '  大 分             1     3',\n",
       " '  宮 崎',\n",
       " '  鹿児島',\n",
       " '  沖 縄',\n",
       " '  合 計   116     624  915     9  18  326   13   40    32   343     4     46']"
      ]
     },
     "execution_count": 27,
     "metadata": {},
     "output_type": "execute_result"
    }
   ],
   "source": [
    "PDF['Text'][8][4:62]"
   ]
  },
  {
   "cell_type": "code",
   "execution_count": 28,
   "metadata": {
    "scrolled": true
   },
   "outputs": [
    {
     "data": {
      "text/plain": [
       "['４   被害の状況', '  (1) 人的被害', '      死者６名', '  (2) 住家被害', '      全壊４棟']"
      ]
     },
     "execution_count": 28,
     "metadata": {},
     "output_type": "execute_result"
    }
   ],
   "source": [
    "PDF['Text'][9][12:17]"
   ]
  },
  {
   "cell_type": "code",
   "execution_count": 29,
   "metadata": {},
   "outputs": [
    {
     "data": {
      "text/html": [
       "<div>\n",
       "<style scoped>\n",
       "    .dataframe tbody tr th:only-of-type {\n",
       "        vertical-align: middle;\n",
       "    }\n",
       "\n",
       "    .dataframe tbody tr th {\n",
       "        vertical-align: top;\n",
       "    }\n",
       "\n",
       "    .dataframe thead th {\n",
       "        text-align: right;\n",
       "    }\n",
       "</style>\n",
       "<table border=\"1\" class=\"dataframe\">\n",
       "  <thead>\n",
       "    <tr style=\"text-align: right;\">\n",
       "      <th></th>\n",
       "      <th>死者</th>\n",
       "      <th>都道府県名</th>\n",
       "    </tr>\n",
       "  </thead>\n",
       "  <tbody>\n",
       "    <tr>\n",
       "      <th>0</th>\n",
       "      <td>6</td>\n",
       "      <td>合 計</td>\n",
       "    </tr>\n",
       "  </tbody>\n",
       "</table>\n",
       "</div>"
      ],
      "text/plain": [
       "  死者 都道府県名\n",
       "0  6   合 計"
      ]
     },
     "execution_count": 29,
     "metadata": {},
     "output_type": "execute_result"
    }
   ],
   "source": [
    "df9 = pd.DataFrame([{'都道府県名': '合 計', '死者': '6'}])\n",
    "df9"
   ]
  },
  {
   "cell_type": "code",
   "execution_count": 30,
   "metadata": {
    "scrolled": true
   },
   "outputs": [
    {
     "data": {
      "text/plain": [
       "['２   被害の状況',\n",
       " '  (1) 人的被害',\n",
       " '    【島根県】',\n",
       " '      重傷２名（大田市）',\n",
       " '      軽傷７名（大田市２名、出雲市３名、雲南市１名、奥出雲町１名）',\n",
       " '  (2) 住家被害',\n",
       " '    【島根県】',\n",
       " '      ４３２棟',\n",
       " '      大田市４２８棟（全壊１３棟、半壊４４棟、一部破損３７１棟）',\n",
       " '      川本町     １棟（一部破損）',\n",
       " '      美郷町    ３棟（一部破損）',\n",
       " '  (3) 非住家被害',\n",
       " '    【島根県】',\n",
       " '      大田市 ３１棟（全壊１４棟、半壊１７棟）']"
      ]
     },
     "execution_count": 30,
     "metadata": {},
     "output_type": "execute_result"
    }
   ],
   "source": [
    "PDF['Text'][10][15:29]"
   ]
  },
  {
   "cell_type": "code",
   "execution_count": 31,
   "metadata": {},
   "outputs": [
    {
     "data": {
      "text/html": [
       "<div>\n",
       "<style scoped>\n",
       "    .dataframe tbody tr th:only-of-type {\n",
       "        vertical-align: middle;\n",
       "    }\n",
       "\n",
       "    .dataframe tbody tr th {\n",
       "        vertical-align: top;\n",
       "    }\n",
       "\n",
       "    .dataframe thead th {\n",
       "        text-align: right;\n",
       "    }\n",
       "</style>\n",
       "<table border=\"1\" class=\"dataframe\">\n",
       "  <thead>\n",
       "    <tr style=\"text-align: right;\">\n",
       "      <th></th>\n",
       "      <th>軽傷</th>\n",
       "      <th>都道府県名</th>\n",
       "      <th>重傷</th>\n",
       "    </tr>\n",
       "  </thead>\n",
       "  <tbody>\n",
       "    <tr>\n",
       "      <th>0</th>\n",
       "      <td>7</td>\n",
       "      <td>合 計</td>\n",
       "      <td>2</td>\n",
       "    </tr>\n",
       "  </tbody>\n",
       "</table>\n",
       "</div>"
      ],
      "text/plain": [
       "  軽傷 都道府県名 重傷\n",
       "0  7   合 計  2"
      ]
     },
     "execution_count": 31,
     "metadata": {},
     "output_type": "execute_result"
    }
   ],
   "source": [
    "df10 = pd.DataFrame([{'都道府県名': '合 計', '重傷': '2', '軽傷': '7'}])\n",
    "df10"
   ]
  },
  {
   "cell_type": "code",
   "execution_count": 32,
   "metadata": {
    "scrolled": true
   },
   "outputs": [
    {
     "data": {
      "text/plain": [
       "['２   被害の状況', '  (1) 人的被害', '      被害情報なし', '  (2) 住家被害', '      被害情報なし']"
      ]
     },
     "execution_count": 32,
     "metadata": {},
     "output_type": "execute_result"
    }
   ],
   "source": [
    "PDF['Text'][11][14:19]"
   ]
  },
  {
   "cell_type": "code",
   "execution_count": 33,
   "metadata": {
    "scrolled": true
   },
   "outputs": [
    {
     "data": {
      "text/plain": [
       "['２   被害の状況', '  （１）人的被害', '      被害情報なし', '  （２）住家被害', '      被害情報なし']"
      ]
     },
     "execution_count": 33,
     "metadata": {},
     "output_type": "execute_result"
    }
   ],
   "source": [
    "PDF['Text'][12][17:22]"
   ]
  },
  {
   "cell_type": "code",
   "execution_count": 34,
   "metadata": {
    "scrolled": true
   },
   "outputs": [
    {
     "data": {
      "text/plain": [
       "['２   被害状況',\n",
       " '              人  的 被 害               住    家   被   害          非住家被害',\n",
       " '              行 方     負 傷 者                一部    床上   床下    公共',\n",
       " ' 都道府県名  死者                      全壊   半壊                         その他',\n",
       " '              不明者   重傷    軽傷               破損    浸水   浸水    建物',\n",
       " '         人      人    人     人     棟    棟     棟     棟    棟     棟   棟',\n",
       " '  岩手県                   1     3',\n",
       " '  秋田県                   9     4                           1         3',\n",
       " '  山形県       1          18    16                     1               3',\n",
       " '  福島県       1           3     4                           1',\n",
       " '  新潟県       9          41    58    1           5                   19',\n",
       " '  富山県       2           4    16',\n",
       " '  石川県                   7    41    1    4      5          1         3',\n",
       " '  福井県       9          19    76         1     21          7        52',\n",
       " '  熊本県                                          1',\n",
       " '  合  計     22         102   218    2    5     32    1    10        80']"
      ]
     },
     "execution_count": 34,
     "metadata": {},
     "output_type": "execute_result"
    }
   ],
   "source": [
    "PDF['Text'][13][15:31]"
   ]
  },
  {
   "cell_type": "code",
   "execution_count": 35,
   "metadata": {
    "scrolled": true
   },
   "outputs": [
    {
     "data": {
      "text/plain": [
       "['２  被害の状況',\n",
       " '  ⑴ 概要',\n",
       " '    草津国際スキー場において、噴石による被害発生及びロープウェーの停止に伴い８１名が取り残さ',\n",
       " '   れたもの（２３日１７時１０分下山完了）',\n",
       " '  ⑵ 人的被害',\n",
       " '    死者１名、重傷３名、軽傷８名',\n",
       " '   《死者の状況》',\n",
       " '   ・ゲレンデで訓練中の４０歳代の男性自衛隊員が噴石の直撃を受け、病院搬送後に死亡確認',\n",
       " '  ⑶ 住家被害',\n",
       " '    被害情報なし']"
      ]
     },
     "execution_count": 35,
     "metadata": {},
     "output_type": "execute_result"
    }
   ],
   "source": [
    "PDF['Text'][14][12:22]"
   ]
  },
  {
   "cell_type": "code",
   "execution_count": 36,
   "metadata": {},
   "outputs": [
    {
     "data": {
      "text/html": [
       "<div>\n",
       "<style scoped>\n",
       "    .dataframe tbody tr th:only-of-type {\n",
       "        vertical-align: middle;\n",
       "    }\n",
       "\n",
       "    .dataframe tbody tr th {\n",
       "        vertical-align: top;\n",
       "    }\n",
       "\n",
       "    .dataframe thead th {\n",
       "        text-align: right;\n",
       "    }\n",
       "</style>\n",
       "<table border=\"1\" class=\"dataframe\">\n",
       "  <thead>\n",
       "    <tr style=\"text-align: right;\">\n",
       "      <th></th>\n",
       "      <th>死者</th>\n",
       "      <th>軽傷</th>\n",
       "      <th>都道府県名</th>\n",
       "      <th>重傷</th>\n",
       "    </tr>\n",
       "  </thead>\n",
       "  <tbody>\n",
       "    <tr>\n",
       "      <th>0</th>\n",
       "      <td>1</td>\n",
       "      <td>8</td>\n",
       "      <td>合 計</td>\n",
       "      <td>3</td>\n",
       "    </tr>\n",
       "  </tbody>\n",
       "</table>\n",
       "</div>"
      ],
      "text/plain": [
       "  死者 軽傷 都道府県名 重傷\n",
       "0  1  8   合 計  3"
      ]
     },
     "execution_count": 36,
     "metadata": {},
     "output_type": "execute_result"
    }
   ],
   "source": [
    "df14 = pd.DataFrame([{'都道府県名': '合 計', '死者': '1', '重傷': '3', '軽傷': '8'}])\n",
    "df14"
   ]
  },
  {
   "cell_type": "code",
   "execution_count": 37,
   "metadata": {},
   "outputs": [],
   "source": [
    "for i in [1, 2, 8, 13, 15]:\n",
    "    df = tabula.read_pdf('./PDF/'+PDF['ID'][i]+'.pdf', lattice=True)\n",
    "    df.to_csv('./CSV/df'+str(i)+'.csv', index=False)"
   ]
  },
  {
   "cell_type": "code",
   "execution_count": 38,
   "metadata": {},
   "outputs": [
    {
     "data": {
      "text/html": [
       "<div>\n",
       "<style scoped>\n",
       "    .dataframe tbody tr th:only-of-type {\n",
       "        vertical-align: middle;\n",
       "    }\n",
       "\n",
       "    .dataframe tbody tr th {\n",
       "        vertical-align: top;\n",
       "    }\n",
       "\n",
       "    .dataframe thead th {\n",
       "        text-align: right;\n",
       "    }\n",
       "</style>\n",
       "<table border=\"1\" class=\"dataframe\">\n",
       "  <thead>\n",
       "    <tr style=\"text-align: right;\">\n",
       "      <th></th>\n",
       "      <th>都道府県名</th>\n",
       "      <th>死者</th>\n",
       "      <th>行方不明者</th>\n",
       "      <th>重傷</th>\n",
       "      <th>軽傷</th>\n",
       "      <th>程度不明</th>\n",
       "      <th>全壊</th>\n",
       "      <th>半壊</th>\n",
       "      <th>一部破損</th>\n",
       "      <th>床上浸水</th>\n",
       "      <th>床下浸水</th>\n",
       "      <th>公共建物</th>\n",
       "      <th>その他</th>\n",
       "    </tr>\n",
       "  </thead>\n",
       "  <tbody>\n",
       "    <tr>\n",
       "      <th>34</th>\n",
       "      <td>合 計</td>\n",
       "      <td>219</td>\n",
       "      <td>10</td>\n",
       "      <td>58</td>\n",
       "      <td>303</td>\n",
       "      <td>3</td>\n",
       "      <td>2,873</td>\n",
       "      <td>588</td>\n",
       "      <td>984</td>\n",
       "      <td>15,159</td>\n",
       "      <td>19,463</td>\n",
       "      <td>6</td>\n",
       "      <td>43</td>\n",
       "    </tr>\n",
       "  </tbody>\n",
       "</table>\n",
       "</div>"
      ],
      "text/plain": [
       "   都道府県名   死者 行方不明者  重傷   軽傷 程度不明     全壊   半壊 一部破損    床上浸水    床下浸水 公共建物 その他\n",
       "34   合 計  219    10  58  303    3  2,873  588  984  15,159  19,463    6  43"
      ]
     },
     "execution_count": 38,
     "metadata": {},
     "output_type": "execute_result"
    }
   ],
   "source": [
    "df1 = pd.read_csv('./CSV/df1_edited.csv')\n",
    "df1 = df1.dropna(subset=['都道府県名'])\n",
    "df1.tail(1)"
   ]
  },
  {
   "cell_type": "code",
   "execution_count": 39,
   "metadata": {},
   "outputs": [
    {
     "data": {
      "text/html": [
       "<div>\n",
       "<style scoped>\n",
       "    .dataframe tbody tr th:only-of-type {\n",
       "        vertical-align: middle;\n",
       "    }\n",
       "\n",
       "    .dataframe tbody tr th {\n",
       "        vertical-align: top;\n",
       "    }\n",
       "\n",
       "    .dataframe thead th {\n",
       "        text-align: right;\n",
       "    }\n",
       "</style>\n",
       "<table border=\"1\" class=\"dataframe\">\n",
       "  <thead>\n",
       "    <tr style=\"text-align: right;\">\n",
       "      <th></th>\n",
       "      <th>都道府県名</th>\n",
       "      <th>死者</th>\n",
       "      <th>行方不明者</th>\n",
       "      <th>重傷</th>\n",
       "      <th>軽傷</th>\n",
       "      <th>全壊</th>\n",
       "      <th>半壊</th>\n",
       "      <th>一部破損</th>\n",
       "      <th>床上浸水</th>\n",
       "      <th>床下浸水</th>\n",
       "      <th>公共建物</th>\n",
       "      <th>その他</th>\n",
       "    </tr>\n",
       "  </thead>\n",
       "  <tbody>\n",
       "    <tr>\n",
       "      <th>8</th>\n",
       "      <td>合 計</td>\n",
       "      <td>4</td>\n",
       "      <td>NaN</td>\n",
       "      <td>15</td>\n",
       "      <td>419</td>\n",
       "      <td>9</td>\n",
       "      <td>87</td>\n",
       "      <td>27,096</td>\n",
       "      <td>NaN</td>\n",
       "      <td>NaN</td>\n",
       "      <td>675</td>\n",
       "      <td>11</td>\n",
       "    </tr>\n",
       "  </tbody>\n",
       "</table>\n",
       "</div>"
      ],
      "text/plain": [
       "  都道府県名 死者 行方不明者  重傷   軽傷 全壊  半壊    一部破損 床上浸水 床下浸水 公共建物 その他\n",
       "8   合 計  4   NaN  15  419  9  87  27,096  NaN  NaN  675  11"
      ]
     },
     "execution_count": 39,
     "metadata": {},
     "output_type": "execute_result"
    }
   ],
   "source": [
    "df2 = pd.read_csv('./CSV/df2_edited.csv')\n",
    "df2.tail(1)"
   ]
  },
  {
   "cell_type": "code",
   "execution_count": 40,
   "metadata": {},
   "outputs": [
    {
     "data": {
      "text/html": [
       "<div>\n",
       "<style scoped>\n",
       "    .dataframe tbody tr th:only-of-type {\n",
       "        vertical-align: middle;\n",
       "    }\n",
       "\n",
       "    .dataframe tbody tr th {\n",
       "        vertical-align: top;\n",
       "    }\n",
       "\n",
       "    .dataframe thead th {\n",
       "        text-align: right;\n",
       "    }\n",
       "</style>\n",
       "<table border=\"1\" class=\"dataframe\">\n",
       "  <thead>\n",
       "    <tr style=\"text-align: right;\">\n",
       "      <th></th>\n",
       "      <th>都道府県名</th>\n",
       "      <th>死者</th>\n",
       "      <th>行方不明</th>\n",
       "      <th>重傷</th>\n",
       "      <th>軽傷</th>\n",
       "      <th>全壊</th>\n",
       "      <th>半壊</th>\n",
       "      <th>一部破損</th>\n",
       "      <th>床上浸水</th>\n",
       "      <th>床下浸水</th>\n",
       "      <th>公共施設</th>\n",
       "      <th>その他</th>\n",
       "      <th>都道府県</th>\n",
       "      <th>市区町村</th>\n",
       "    </tr>\n",
       "  </thead>\n",
       "  <tbody>\n",
       "    <tr>\n",
       "      <th>48</th>\n",
       "      <td>合 計</td>\n",
       "      <td>116</td>\n",
       "      <td>NaN</td>\n",
       "      <td>624</td>\n",
       "      <td>915</td>\n",
       "      <td>9</td>\n",
       "      <td>18</td>\n",
       "      <td>326</td>\n",
       "      <td>13</td>\n",
       "      <td>40</td>\n",
       "      <td>32</td>\n",
       "      <td>343</td>\n",
       "      <td>4.0</td>\n",
       "      <td>46.0</td>\n",
       "    </tr>\n",
       "  </tbody>\n",
       "</table>\n",
       "</div>"
      ],
      "text/plain": [
       "   都道府県名   死者 行方不明   重傷   軽傷 全壊  半壊 一部破損 床上浸水 床下浸水 公共施設  その他  都道府県  市区町村\n",
       "48   合 計  116  NaN  624  915  9  18  326   13   40   32  343   4.0  46.0"
      ]
     },
     "execution_count": 40,
     "metadata": {},
     "output_type": "execute_result"
    }
   ],
   "source": [
    "df8 = pd.read_csv('./CSV/df8_edited.csv')\n",
    "df8.tail(1)"
   ]
  },
  {
   "cell_type": "code",
   "execution_count": 41,
   "metadata": {},
   "outputs": [
    {
     "data": {
      "text/html": [
       "<div>\n",
       "<style scoped>\n",
       "    .dataframe tbody tr th:only-of-type {\n",
       "        vertical-align: middle;\n",
       "    }\n",
       "\n",
       "    .dataframe tbody tr th {\n",
       "        vertical-align: top;\n",
       "    }\n",
       "\n",
       "    .dataframe thead th {\n",
       "        text-align: right;\n",
       "    }\n",
       "</style>\n",
       "<table border=\"1\" class=\"dataframe\">\n",
       "  <thead>\n",
       "    <tr style=\"text-align: right;\">\n",
       "      <th></th>\n",
       "      <th>都道府県名</th>\n",
       "      <th>死者</th>\n",
       "      <th>行方不明者</th>\n",
       "      <th>重傷</th>\n",
       "      <th>軽傷</th>\n",
       "      <th>全壊</th>\n",
       "      <th>半壊</th>\n",
       "      <th>一部破損</th>\n",
       "      <th>床上浸水</th>\n",
       "      <th>床下浸水</th>\n",
       "      <th>公共建物</th>\n",
       "      <th>その他</th>\n",
       "    </tr>\n",
       "  </thead>\n",
       "  <tbody>\n",
       "    <tr>\n",
       "      <th>10</th>\n",
       "      <td>合 計</td>\n",
       "      <td>22</td>\n",
       "      <td>NaN</td>\n",
       "      <td>102</td>\n",
       "      <td>218</td>\n",
       "      <td>2</td>\n",
       "      <td>5</td>\n",
       "      <td>32</td>\n",
       "      <td>1</td>\n",
       "      <td>10</td>\n",
       "      <td>NaN</td>\n",
       "      <td>80</td>\n",
       "    </tr>\n",
       "  </tbody>\n",
       "</table>\n",
       "</div>"
      ],
      "text/plain": [
       "   都道府県名  死者 行方不明者   重傷   軽傷 全壊 半壊 一部破損 床上浸水 床下浸水 公共建物 その他\n",
       "10   合 計  22   NaN  102  218  2  5   32    1   10  NaN  80"
      ]
     },
     "execution_count": 41,
     "metadata": {},
     "output_type": "execute_result"
    }
   ],
   "source": [
    "df13 = pd.read_csv('./CSV/df13_edited.csv')\n",
    "df13.tail(1)"
   ]
  },
  {
   "cell_type": "code",
   "execution_count": 42,
   "metadata": {},
   "outputs": [
    {
     "data": {
      "text/html": [
       "<div>\n",
       "<style scoped>\n",
       "    .dataframe tbody tr th:only-of-type {\n",
       "        vertical-align: middle;\n",
       "    }\n",
       "\n",
       "    .dataframe tbody tr th {\n",
       "        vertical-align: top;\n",
       "    }\n",
       "\n",
       "    .dataframe thead th {\n",
       "        text-align: right;\n",
       "    }\n",
       "</style>\n",
       "<table border=\"1\" class=\"dataframe\">\n",
       "  <thead>\n",
       "    <tr style=\"text-align: right;\">\n",
       "      <th></th>\n",
       "      <th>都道府県名</th>\n",
       "      <th>死者</th>\n",
       "      <th>行 方不明者</th>\n",
       "      <th>重傷</th>\n",
       "      <th>軽傷</th>\n",
       "      <th>全壊</th>\n",
       "      <th>半壊</th>\n",
       "      <th>一部破損</th>\n",
       "      <th>床上浸水</th>\n",
       "      <th>床下浸水</th>\n",
       "      <th>公共建物</th>\n",
       "      <th>その他</th>\n",
       "    </tr>\n",
       "  </thead>\n",
       "  <tbody>\n",
       "    <tr>\n",
       "      <th>15</th>\n",
       "      <td>合 計</td>\n",
       "      <td>5</td>\n",
       "      <td>NaN</td>\n",
       "      <td>19</td>\n",
       "      <td>957</td>\n",
       "      <td>NaN</td>\n",
       "      <td>NaN</td>\n",
       "      <td>4</td>\n",
       "      <td>NaN</td>\n",
       "      <td>NaN</td>\n",
       "      <td>NaN</td>\n",
       "      <td>NaN</td>\n",
       "    </tr>\n",
       "  </tbody>\n",
       "</table>\n",
       "</div>"
      ],
      "text/plain": [
       "   都道府県名 死者 行 方不明者  重傷   軽傷   全壊   半壊 一部破損 床上浸水 床下浸水 公共建物  その他\n",
       "15   合 計  5    NaN  19  957  NaN  NaN    4  NaN  NaN  NaN  NaN"
      ]
     },
     "execution_count": 42,
     "metadata": {},
     "output_type": "execute_result"
    }
   ],
   "source": [
    "df15 = pd.read_csv('./CSV/df15_edited.csv')\n",
    "df15.tail(1)"
   ]
  },
  {
   "cell_type": "code",
   "execution_count": 43,
   "metadata": {},
   "outputs": [
    {
     "data": {
      "text/html": [
       "<div>\n",
       "<style scoped>\n",
       "    .dataframe tbody tr th:only-of-type {\n",
       "        vertical-align: middle;\n",
       "    }\n",
       "\n",
       "    .dataframe tbody tr th {\n",
       "        vertical-align: top;\n",
       "    }\n",
       "\n",
       "    .dataframe thead th {\n",
       "        text-align: right;\n",
       "    }\n",
       "</style>\n",
       "<table border=\"1\" class=\"dataframe\">\n",
       "  <thead>\n",
       "    <tr style=\"text-align: right;\">\n",
       "      <th></th>\n",
       "      <th>Event</th>\n",
       "      <th>Date</th>\n",
       "      <th>Disaster</th>\n",
       "      <th>Death Toll</th>\n",
       "    </tr>\n",
       "  </thead>\n",
       "  <tbody>\n",
       "    <tr>\n",
       "      <th>0</th>\n",
       "      <td>千葉県東方沖を震源とする地震</td>\n",
       "      <td>2018-07-07</td>\n",
       "      <td>Earthquake</td>\n",
       "      <td>0</td>\n",
       "    </tr>\n",
       "    <tr>\n",
       "      <th>1</th>\n",
       "      <td>平成30年７月豪雨による被害状況及び消防機関等の対応状況</td>\n",
       "      <td>2018-07-03</td>\n",
       "      <td>Flood</td>\n",
       "      <td>229</td>\n",
       "    </tr>\n",
       "    <tr>\n",
       "      <th>2</th>\n",
       "      <td>大阪府北部を震源とする地震による被害及び消防機関等の対応状況</td>\n",
       "      <td>2018-06-18</td>\n",
       "      <td>Earthquake</td>\n",
       "      <td>4</td>\n",
       "    </tr>\n",
       "    <tr>\n",
       "      <th>3</th>\n",
       "      <td>群馬県南部を震源とする地震</td>\n",
       "      <td>2018-06-17</td>\n",
       "      <td>Earthquake</td>\n",
       "      <td>0</td>\n",
       "    </tr>\n",
       "    <tr>\n",
       "      <th>4</th>\n",
       "      <td>長野県北部を震源とする地震</td>\n",
       "      <td>2018-05-25</td>\n",
       "      <td>Earthquake</td>\n",
       "      <td>0</td>\n",
       "    </tr>\n",
       "  </tbody>\n",
       "</table>\n",
       "</div>"
      ],
      "text/plain": [
       "                            Event       Date    Disaster  Death Toll\n",
       "0                  千葉県東方沖を震源とする地震 2018-07-07  Earthquake           0\n",
       "1    平成30年７月豪雨による被害状況及び消防機関等の対応状況 2018-07-03       Flood         229\n",
       "2  大阪府北部を震源とする地震による被害及び消防機関等の対応状況 2018-06-18  Earthquake           4\n",
       "3                   群馬県南部を震源とする地震 2018-06-17  Earthquake           0\n",
       "4                   長野県北部を震源とする地震 2018-05-25  Earthquake           0"
      ]
     },
     "execution_count": 43,
     "metadata": {},
     "output_type": "execute_result"
    }
   ],
   "source": [
    "death = [0, 229, 4, 0, 0, 0, 0, 0, 116, 6, 0, 0, 0, 22, 1, 5]\n",
    "df_disasters['Death Toll'] = death\n",
    "df_disasters['Death Toll'] = df_disasters['Death Toll'].astype(int)\n",
    "df_disasters[['Event', 'Date', 'Disaster', 'Death Toll']].head()"
   ]
  },
  {
   "cell_type": "code",
   "execution_count": 44,
   "metadata": {},
   "outputs": [
    {
     "data": {
      "text/html": [
       "<div>\n",
       "<style scoped>\n",
       "    .dataframe tbody tr th:only-of-type {\n",
       "        vertical-align: middle;\n",
       "    }\n",
       "\n",
       "    .dataframe tbody tr th {\n",
       "        vertical-align: top;\n",
       "    }\n",
       "\n",
       "    .dataframe thead th {\n",
       "        text-align: right;\n",
       "    }\n",
       "</style>\n",
       "<table border=\"1\" class=\"dataframe\">\n",
       "  <thead>\n",
       "    <tr style=\"text-align: right;\">\n",
       "      <th></th>\n",
       "      <th>Disaster</th>\n",
       "      <th>Death Toll</th>\n",
       "    </tr>\n",
       "  </thead>\n",
       "  <tbody>\n",
       "    <tr>\n",
       "      <th>0</th>\n",
       "      <td>Earthquake</td>\n",
       "      <td>4</td>\n",
       "    </tr>\n",
       "    <tr>\n",
       "      <th>1</th>\n",
       "      <td>Flood</td>\n",
       "      <td>229</td>\n",
       "    </tr>\n",
       "    <tr>\n",
       "      <th>2</th>\n",
       "      <td>Others</td>\n",
       "      <td>6</td>\n",
       "    </tr>\n",
       "    <tr>\n",
       "      <th>3</th>\n",
       "      <td>Snow</td>\n",
       "      <td>143</td>\n",
       "    </tr>\n",
       "    <tr>\n",
       "      <th>4</th>\n",
       "      <td>Volcano</td>\n",
       "      <td>1</td>\n",
       "    </tr>\n",
       "  </tbody>\n",
       "</table>\n",
       "</div>"
      ],
      "text/plain": [
       "     Disaster  Death Toll\n",
       "0  Earthquake           4\n",
       "1       Flood         229\n",
       "2      Others           6\n",
       "3        Snow         143\n",
       "4     Volcano           1"
      ]
     },
     "execution_count": 44,
     "metadata": {},
     "output_type": "execute_result"
    }
   ],
   "source": [
    "summary = df_disasters.groupby(by='Disaster')['Death Toll'].sum().reset_index()\n",
    "summary"
   ]
  },
  {
   "cell_type": "code",
   "execution_count": 45,
   "metadata": {},
   "outputs": [
    {
     "data": {
      "text/html": [
       "<div>\n",
       "<style scoped>\n",
       "    .dataframe tbody tr th:only-of-type {\n",
       "        vertical-align: middle;\n",
       "    }\n",
       "\n",
       "    .dataframe tbody tr th {\n",
       "        vertical-align: top;\n",
       "    }\n",
       "\n",
       "    .dataframe thead th {\n",
       "        text-align: right;\n",
       "    }\n",
       "</style>\n",
       "<table border=\"1\" class=\"dataframe\">\n",
       "  <thead>\n",
       "    <tr style=\"text-align: right;\">\n",
       "      <th>Disaster</th>\n",
       "      <th>Earthquake</th>\n",
       "      <th>Flood</th>\n",
       "      <th>Others</th>\n",
       "      <th>Snow</th>\n",
       "      <th>Volcano</th>\n",
       "      <th>Total</th>\n",
       "      <th>Year</th>\n",
       "      <th>Year_JP</th>\n",
       "    </tr>\n",
       "  </thead>\n",
       "  <tbody>\n",
       "    <tr>\n",
       "      <th>Death Toll</th>\n",
       "      <td>4</td>\n",
       "      <td>229</td>\n",
       "      <td>6</td>\n",
       "      <td>143</td>\n",
       "      <td>1</td>\n",
       "      <td>383</td>\n",
       "      <td>2018</td>\n",
       "      <td>30</td>\n",
       "    </tr>\n",
       "  </tbody>\n",
       "</table>\n",
       "</div>"
      ],
      "text/plain": [
       "Disaster    Earthquake  Flood  Others  Snow  Volcano  Total  Year  Year_JP\n",
       "Death Toll           4    229       6   143        1    383  2018       30"
      ]
     },
     "execution_count": 45,
     "metadata": {},
     "output_type": "execute_result"
    }
   ],
   "source": [
    "total = summary['Death Toll'].sum()\n",
    "new_summary = pd.DataFrame([{'Disaster': 'Total', 'Death Toll': total}, {'Disaster': 'Year', 'Death Toll': 2018}, {'Disaster': 'Year_JP', 'Death Toll': 30} ])\n",
    "summary = summary.append(new_summary, sort=True)\n",
    "summary = summary.set_index('Disaster').T\n",
    "summary"
   ]
  },
  {
   "cell_type": "code",
   "execution_count": 46,
   "metadata": {},
   "outputs": [
    {
     "data": {
      "text/html": [
       "<div>\n",
       "<style scoped>\n",
       "    .dataframe tbody tr th:only-of-type {\n",
       "        vertical-align: middle;\n",
       "    }\n",
       "\n",
       "    .dataframe tbody tr th {\n",
       "        vertical-align: top;\n",
       "    }\n",
       "\n",
       "    .dataframe thead th {\n",
       "        text-align: right;\n",
       "    }\n",
       "</style>\n",
       "<table border=\"1\" class=\"dataframe\">\n",
       "  <thead>\n",
       "    <tr style=\"text-align: right;\">\n",
       "      <th></th>\n",
       "      <th>Earthquake</th>\n",
       "      <th>Flood</th>\n",
       "      <th>Others</th>\n",
       "      <th>Snow</th>\n",
       "      <th>Total</th>\n",
       "      <th>Volcano</th>\n",
       "      <th>Year</th>\n",
       "      <th>Year_JP</th>\n",
       "    </tr>\n",
       "  </thead>\n",
       "  <tbody>\n",
       "    <tr>\n",
       "      <th>0</th>\n",
       "      <td>234</td>\n",
       "      <td>183</td>\n",
       "      <td>11</td>\n",
       "      <td>9</td>\n",
       "      <td>438</td>\n",
       "      <td>1</td>\n",
       "      <td>1993</td>\n",
       "      <td>5</td>\n",
       "    </tr>\n",
       "    <tr>\n",
       "      <th>1</th>\n",
       "      <td>3</td>\n",
       "      <td>8</td>\n",
       "      <td>7</td>\n",
       "      <td>21</td>\n",
       "      <td>39</td>\n",
       "      <td>0</td>\n",
       "      <td>1994</td>\n",
       "      <td>6</td>\n",
       "    </tr>\n",
       "    <tr>\n",
       "      <th>2</th>\n",
       "      <td>6437</td>\n",
       "      <td>19</td>\n",
       "      <td>8</td>\n",
       "      <td>14</td>\n",
       "      <td>6482</td>\n",
       "      <td>4</td>\n",
       "      <td>1995</td>\n",
       "      <td>7</td>\n",
       "    </tr>\n",
       "    <tr>\n",
       "      <th>3</th>\n",
       "      <td>0</td>\n",
       "      <td>21</td>\n",
       "      <td>35</td>\n",
       "      <td>28</td>\n",
       "      <td>84</td>\n",
       "      <td>0</td>\n",
       "      <td>1996</td>\n",
       "      <td>8</td>\n",
       "    </tr>\n",
       "    <tr>\n",
       "      <th>4</th>\n",
       "      <td>0</td>\n",
       "      <td>51</td>\n",
       "      <td>4</td>\n",
       "      <td>16</td>\n",
       "      <td>71</td>\n",
       "      <td>0</td>\n",
       "      <td>1997</td>\n",
       "      <td>9</td>\n",
       "    </tr>\n",
       "  </tbody>\n",
       "</table>\n",
       "</div>"
      ],
      "text/plain": [
       "   Earthquake  Flood  Others  Snow  Total  Volcano  Year  Year_JP\n",
       "0         234    183      11     9    438        1  1993        5\n",
       "1           3      8       7    21     39        0  1994        6\n",
       "2        6437     19       8    14   6482        4  1995        7\n",
       "3           0     21      35    28     84        0  1996        8\n",
       "4           0     51       4    16     71        0  1997        9"
      ]
     },
     "execution_count": 46,
     "metadata": {},
     "output_type": "execute_result"
    }
   ],
   "source": [
    "death_toll = pd.read_csv('death_toll.csv')\n",
    "death_toll = death_toll.append(summary, sort=True)\n",
    "death_toll.to_csv('death_toll_updated.csv', index=False)\n",
    "death_toll.head()"
   ]
  },
  {
   "cell_type": "code",
   "execution_count": 47,
   "metadata": {},
   "outputs": [],
   "source": [
    "import matplotlib.pyplot as plt\n",
    "from cycler import cycler\n",
    "\n",
    "%matplotlib inline"
   ]
  },
  {
   "cell_type": "code",
   "execution_count": 48,
   "metadata": {},
   "outputs": [],
   "source": [
    "plt.rcdefaults()\n",
    "plt.rcParams.update({\n",
    "    'pdf.fonttype': 42,\n",
    "    'axes.grid': True,\n",
    "    'axes.prop_cycle': cycler('color', ['#01579B', '#B71C1C', '#827717', '#1B5E20', '#F57F17', '#4A148C', '#1B5E20']),\n",
    "    'axes.edgecolor': '#ffffff',\n",
    "    'xtick.major.size': 0,\n",
    "    'xtick.minor.size': 0,\n",
    "    'ytick.major.size': 0,\n",
    "    'ytick.minor.size': 0,\n",
    "    'legend.edgecolor': '#ffffff',\n",
    "    'ps.fonttype': 42,\n",
    "})"
   ]
  },
  {
   "cell_type": "code",
   "execution_count": 49,
   "metadata": {
    "scrolled": true
   },
   "outputs": [
    {
     "data": {
      "image/png": "[encoded data removed]",
      "text/plain": [
       "<Figure size 1500x1000 with 1 Axes>"
      ]
     },
     "metadata": {},
     "output_type": "display_data"
    }
   ],
   "source": [
    "ax = death_toll[['Flood', 'Snow', 'Volcano', 'Others', 'Year']].plot(x='Year', kind='bar', figsize=(15,10), width=0.8, rot=0, stacked=True)\n",
    "ax.set_title('Natural disasters are imminent threat for Japan\\'s safety', pad=40)\n",
    "ax.title.set_fontsize(30)\n",
    "ax.grid(False, axis='x')\n",
    "plt.savefig(\"graph-disasters.pdf\")\n",
    "plt.show()"
   ]
  },
  {
   "cell_type": "code",
   "execution_count": 50,
   "metadata": {},
   "outputs": [
    {
     "data": {
      "image/png": "[encoded data removed]",
      "text/plain": [
       "<Figure size 1500x1000 with 1 Axes>"
      ]
     },
     "metadata": {},
     "output_type": "display_data"
    }
   ],
   "source": [
    "ax = death_toll[['Earthquake', 'Year']].plot(x='Year', kind='bar', figsize=(15,10), width=0.8, rot=0)\n",
    "ax.set_title('Don\\'t forget the earthquakes!', pad=40)\n",
    "ax.title.set_fontsize(30)\n",
    "ax.grid(False, axis='x')\n",
    "plt.savefig(\"graph-earthquakes.pdf\")\n",
    "plt.show()"
   ]
  },
  {
   "cell_type": "code",
   "execution_count": null,
   "metadata": {},
   "outputs": [],
   "source": []
  }
 ],
 "metadata": {
  "kernelspec": {
   "display_name": "Python 3",
   "language": "python",
   "name": "python3"
  },
  "language_info": {
   "codemirror_mode": {
    "name": "ipython",
    "version": 3
   },
   "file_extension": ".py",
   "mimetype": "text/x-python",
   "name": "python",
   "nbconvert_exporter": "python",
   "pygments_lexer": "ipython3",
   "version": "3.6.5"
  }
 },
 "nbformat": 4,
 "nbformat_minor": 2
}
